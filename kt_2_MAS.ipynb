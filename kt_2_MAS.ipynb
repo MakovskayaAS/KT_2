{
  "nbformat": 4,
  "nbformat_minor": 0,
  "metadata": {
    "colab": {
      "provenance": [],
      "authorship_tag": "ABX9TyPh6ozstbeGroy1GtUg0xuH",
      "include_colab_link": true
    },
    "kernelspec": {
      "name": "python3",
      "display_name": "Python 3"
    },
    "language_info": {
      "name": "python"
    }
  },
  "cells": [
    {
      "cell_type": "markdown",
      "metadata": {
        "id": "view-in-github",
        "colab_type": "text"
      },
      "source": [
        "<a href=\"https://colab.research.google.com/github/MakovskayaAS/KT_2/blob/main/kt_2_MAS.ipynb\" target=\"_parent\"><img src=\"https://colab.research.google.com/assets/colab-badge.svg\" alt=\"Open In Colab\"/></a>"
      ]
    },
    {
      "cell_type": "code",
      "execution_count": null,
      "metadata": {
        "id": "t0YX76kYQeoV"
      },
      "outputs": [],
      "source": [
        "<b>ПОРТАЛ ОТКРЫТЫХ ДАННЫХ Правительства Москвы: здравоохранение </b>"
      ]
    },
    {
      "cell_type": "markdown",
      "source": [
        "<b>ПОРТАЛ ОТКРЫТЫХ ДАННЫХ Правительства Москвы: здравоохранение </b>\n",
        "<i>На сайте вы можете ознакомиться с информацией, связанной со сферой здравоохранения г. Москвы, которая представлена в следующих разделах: <b> ДАННЫЕ, СПРАВОЧНИКИ, ПРИЛОЖЕНИЯ, НОВОСТИ, ИНФОРМАЦИЯ и ФОРУМ\t</b>\n",
        " </i>\n",
        "\n",
        "\n",
        " https://sites.google.com/view/kt-makovskayayas/%D0%B4%D0%B0%D0%BD%D0%BD%D1%8B%D0%B5"
      ],
      "metadata": {
        "id": "tPE-BGJ6Qz3j"
      }
    }
  ]
}